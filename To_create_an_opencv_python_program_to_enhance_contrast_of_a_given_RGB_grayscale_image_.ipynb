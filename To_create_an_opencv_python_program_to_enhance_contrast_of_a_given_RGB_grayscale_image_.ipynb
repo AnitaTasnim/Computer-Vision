{
  "cells": [
    {
      "cell_type": "markdown",
      "metadata": {
        "id": "view-in-github",
        "colab_type": "text"
      },
      "source": [
        "<a href=\"https://colab.research.google.com/github/AnitaTasnim/open-cv/blob/main/To_create_an_opencv_python_program_to_enhance_contrast_of_a_given_RGB_grayscale_image_.ipynb\" target=\"_parent\"><img src=\"https://colab.research.google.com/assets/colab-badge.svg\" alt=\"Open In Colab\"/></a>"
      ]
    },
    {
      "cell_type": "code",
      "execution_count": null,
      "metadata": {
        "id": "Tb8dNAtgquZD"
      },
      "outputs": [],
      "source": [
        "import cv2\n",
        "\n",
        "def enhance_contrast(image_path, alpha, beta):\n",
        "    # Read the image\n",
        "    image = cv2.imread(image_path)\n",
        "\n",
        "    # Check if image is successfully loaded\n",
        "    if image is None:\n",
        "        print(\"Error: Unable to load image.\")\n",
        "        return\n",
        "\n",
        "    # Split the image into its RGB channels\n",
        "    b, g, r = cv2.split(image)\n",
        "\n",
        "    # Apply contrast enhancement to each channel independently\n",
        "    b_enhanced = cv2.convertScaleAbs(b, alpha=alpha, beta=beta)\n",
        "    g_enhanced = cv2.convertScaleAbs(g, alpha=alpha, beta=beta)\n",
        "    r_enhanced = cv2.convertScaleAbs(r, alpha=alpha, beta=beta)\n",
        "\n",
        "    # Merge the enhanced channels back into an RGB image\n",
        "    enhanced_image = cv2.merge([b_enhanced, g_enhanced, r_enhanced])\n",
        "\n",
        "    # Display the original and enhanced images\n",
        "    cv2.imshow(\"Original Image\", image)\n",
        "    cv2.imshow(\"Enhanced Image\", enhanced_image)\n",
        "    cv2.waitKey(0)\n",
        "    cv2.destroyAllWindows()\n",
        "\n",
        "# Example usage\n",
        "if __name__ == \"__main__\":\n",
        "    image_path = \"images.jpg\"  # Replace with your image path\n",
        "    alpha = 1.5  # Contrast control (1.0-3.0)\n",
        "    beta = 0  # Brightness control (0-100)\n",
        "    enhance_contrast(image_path, alpha, beta)\n"
      ]
    },
    {
      "cell_type": "code",
      "execution_count": null,
      "metadata": {
        "id": "ErYReX8fquZF"
      },
      "outputs": [],
      "source": [
        "import cv2\n",
        "\n",
        "def enhance_contrast_gray(image_path, alpha, beta):\n",
        "    # Read the grayscale image\n",
        "    image = cv2.imread(image_path, cv2.IMREAD_GRAYSCALE)\n",
        "\n",
        "    # Check if image is successfully loaded\n",
        "    if image is None:\n",
        "        print(\"Error: Unable to load image.\")\n",
        "        return\n",
        "\n",
        "    # Apply contrast enhancement\n",
        "    enhanced_image = cv2.convertScaleAbs(image, alpha=alpha, beta=beta)\n",
        "\n",
        "    # Display the original and enhanced images\n",
        "    cv2.imshow(\"Original Image\", image)\n",
        "    cv2.imshow(\"Enhanced Image\", enhanced_image)\n",
        "    cv2.waitKey(0)\n",
        "    cv2.destroyAllWindows()\n",
        "\n",
        "# Example usage\n",
        "if __name__ == \"__main__\":\n",
        "    image_path = \"example.jpg\"  # Replace with your image path\n",
        "    alpha = 1.5  # Contrast control (1.0-3.0)\n",
        "    beta = 0  # Brightness control (0-100)\n",
        "    enhance_contrast_gray(image_path, alpha, beta)\n"
      ]
    }
  ],
  "metadata": {
    "kernelspec": {
      "display_name": "Python 3",
      "language": "python",
      "name": "python3"
    },
    "language_info": {
      "codemirror_mode": {
        "name": "ipython",
        "version": 3
      },
      "file_extension": ".py",
      "mimetype": "text/x-python",
      "name": "python",
      "nbconvert_exporter": "python",
      "pygments_lexer": "ipython3",
      "version": "3.11.4"
    },
    "colab": {
      "provenance": [],
      "include_colab_link": true
    }
  },
  "nbformat": 4,
  "nbformat_minor": 0
}